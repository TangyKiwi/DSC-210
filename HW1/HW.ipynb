{
 "cells": [
  {
   "cell_type": "code",
   "execution_count": 1,
   "id": "daac2718",
   "metadata": {},
   "outputs": [],
   "source": [
    "import numpy as np\n",
    "\n",
    "B = np.array([[1, 2, 3, 4],\n",
    "              [5, 6, 7, 8],\n",
    "              [9, 10, 11, 12],\n",
    "              [13, 14, 15, 16]])"
   ]
  },
  {
   "cell_type": "code",
   "execution_count": 14,
   "id": "4c09787d",
   "metadata": {},
   "outputs": [
    {
     "data": {
      "text/plain": [
       "array([[ 2,  2,  3,  4],\n",
       "       [10,  6,  7,  8],\n",
       "       [18, 10, 11, 12],\n",
       "       [26, 14, 15, 16]])"
      ]
     },
     "execution_count": 14,
     "metadata": {},
     "output_type": "execute_result"
    }
   ],
   "source": [
    "E1 = np.array([[2, 0, 0, 0],\n",
    "               [0, 1, 0, 0],\n",
    "               [0, 0, 1, 0],\n",
    "               [0, 0, 0, 1]])\n",
    "B @ E1"
   ]
  },
  {
   "cell_type": "code",
   "execution_count": 3,
   "id": "1a7945ce",
   "metadata": {},
   "outputs": [
    {
     "data": {
      "text/plain": [
       "array([[ 2. ,  2. ,  3. ,  4. ],\n",
       "       [10. ,  6. ,  7. ,  8. ],\n",
       "       [ 9. ,  5. ,  5.5,  6. ],\n",
       "       [26. , 14. , 15. , 16. ]])"
      ]
     },
     "execution_count": 3,
     "metadata": {},
     "output_type": "execute_result"
    }
   ],
   "source": [
    "E2 = np.array([[1, 0, 0, 0],\n",
    "               [0, 1, 0, 0],\n",
    "               [0, 0, 0.5, 0],\n",
    "               [0, 0, 0, 1]])\n",
    "E2 @ B @ E1"
   ]
  },
  {
   "cell_type": "code",
   "execution_count": 4,
   "id": "5999c1d1",
   "metadata": {},
   "outputs": [
    {
     "data": {
      "text/plain": [
       "array([[ 2. ,  2. ,  3. ,  4. ],\n",
       "       [10. ,  6. ,  7. ,  8. ],\n",
       "       [ 9. ,  5. ,  5.5,  6. ],\n",
       "       [28. , 16. , 18. , 20. ]])"
      ]
     },
     "execution_count": 4,
     "metadata": {},
     "output_type": "execute_result"
    }
   ],
   "source": [
    "E3 = np.array([[1, 0, 0, 0],\n",
    "               [0, 1, 0, 0],    \n",
    "               [0, 0, 1, 0],\n",
    "               [1, 0, 0, 1]])\n",
    "E3 @ E2 @ B @ E1"
   ]
  },
  {
   "cell_type": "code",
   "execution_count": 5,
   "id": "660ede54",
   "metadata": {},
   "outputs": [
    {
     "data": {
      "text/plain": [
       "array([[ 2. ,  3. ,  2. ,  4. ],\n",
       "       [10. ,  7. ,  6. ,  8. ],\n",
       "       [ 9. ,  5.5,  5. ,  6. ],\n",
       "       [28. , 18. , 16. , 20. ]])"
      ]
     },
     "execution_count": 5,
     "metadata": {},
     "output_type": "execute_result"
    }
   ],
   "source": [
    "E4 = np.array([[1, 0, 0, 0],\n",
    "              [0, 0, 1, 0],\n",
    "              [0, 1, 0, 0],\n",
    "              [0, 0, 0, 1]])\n",
    "E3 @ E2 @ B @ E1 @ E4"
   ]
  },
  {
   "cell_type": "code",
   "execution_count": 7,
   "id": "13aa317c",
   "metadata": {},
   "outputs": [
    {
     "data": {
      "text/plain": [
       "array([[-8. , -4. , -4. , -4. ],\n",
       "       [10. ,  7. ,  6. ,  8. ],\n",
       "       [-1. , -1.5, -1. , -2. ],\n",
       "       [18. , 11. , 10. , 12. ]])"
      ]
     },
     "execution_count": 7,
     "metadata": {},
     "output_type": "execute_result"
    }
   ],
   "source": [
    "E5 = np.array([[1, -1, 0, 0],\n",
    "              [0, 1, 0, 0],\n",
    "              [0, -1, 1, 0],\n",
    "              [0, -1, 0, 1]])\n",
    "E5 @ E3 @ E2 @ B @ E1 @ E4"
   ]
  },
  {
   "cell_type": "code",
   "execution_count": 9,
   "id": "9a56a368",
   "metadata": {},
   "outputs": [
    {
     "data": {
      "text/plain": [
       "array([[-8. , -4. , -4. , -8. ],\n",
       "       [10. ,  7. ,  6. , 10. ],\n",
       "       [-1. , -1.5, -1. , -1. ],\n",
       "       [18. , 11. , 10. , 18. ]])"
      ]
     },
     "execution_count": 9,
     "metadata": {},
     "output_type": "execute_result"
    }
   ],
   "source": [
    "E6 = np.array([[1, 0, 0, 1],\n",
    "              [0, 1, 0, 0],\n",
    "              [0, 0, 1, 0],\n",
    "              [0, 0, 0, 0]])\n",
    "E5 @ E3 @ E2 @ B @ E1 @ E4 @ E6"
   ]
  },
  {
   "cell_type": "code",
   "execution_count": 10,
   "id": "5cb74c98",
   "metadata": {},
   "outputs": [
    {
     "data": {
      "text/plain": [
       "array([[-8., -4., -8.],\n",
       "       [10.,  6., 10.],\n",
       "       [-1., -1., -1.],\n",
       "       [18., 10., 18.]])"
      ]
     },
     "execution_count": 10,
     "metadata": {},
     "output_type": "execute_result"
    }
   ],
   "source": [
    "E7 = np.array([[1, 0, 0],\n",
    "              [0, 0, 0],\n",
    "              [0, 1, 0],\n",
    "              [0, 0, 1]])\n",
    "E5 @ E3 @ E2 @ B @ E1 @ E4 @ E6 @ E7"
   ]
  },
  {
   "cell_type": "code",
   "execution_count": 11,
   "id": "5fc77bda",
   "metadata": {},
   "outputs": [
    {
     "data": {
      "text/plain": [
       "array([[ 1. , -1. ,  0. ,  0. ],\n",
       "       [ 0. ,  1. ,  0. ,  0. ],\n",
       "       [ 0. , -1. ,  0.5,  0. ],\n",
       "       [ 1. , -1. ,  0. ,  1. ]])"
      ]
     },
     "execution_count": 11,
     "metadata": {},
     "output_type": "execute_result"
    }
   ],
   "source": [
    "E5 @ E3 @ E2"
   ]
  },
  {
   "cell_type": "code",
   "execution_count": 12,
   "id": "5c9731f8",
   "metadata": {},
   "outputs": [
    {
     "data": {
      "text/plain": [
       "array([[2, 0, 2],\n",
       "       [0, 1, 0],\n",
       "       [0, 0, 0],\n",
       "       [0, 0, 0]])"
      ]
     },
     "execution_count": 12,
     "metadata": {},
     "output_type": "execute_result"
    }
   ],
   "source": [
    "E1 @ E4 @ E6 @ E7"
   ]
  }
 ],
 "metadata": {
  "kernelspec": {
   "display_name": "Python 3",
   "language": "python",
   "name": "python3"
  },
  "language_info": {
   "codemirror_mode": {
    "name": "ipython",
    "version": 3
   },
   "file_extension": ".py",
   "mimetype": "text/x-python",
   "name": "python",
   "nbconvert_exporter": "python",
   "pygments_lexer": "ipython3",
   "version": "3.13.7"
  }
 },
 "nbformat": 4,
 "nbformat_minor": 5
}
