{
 "cells": [
  {
   "cell_type": "code",
   "execution_count": 1,
   "id": "daac2718",
   "metadata": {},
   "outputs": [],
   "source": [
    "import numpy as np\n",
    "\n",
    "B = np.array([[1, 2, 3, 4],\n",
    "              [5, 6, 7, 8],\n",
    "              [9, 10, 11, 12],\n",
    "              [13, 14, 15, 16]])"
   ]
  },
  {
   "cell_type": "code",
   "execution_count": 2,
   "id": "4c09787d",
   "metadata": {},
   "outputs": [
    {
     "data": {
      "text/plain": [
       "array([[ 2,  2,  3,  4],\n",
       "       [10,  6,  7,  8],\n",
       "       [18, 10, 11, 12],\n",
       "       [26, 14, 15, 16]])"
      ]
     },
     "execution_count": 2,
     "metadata": {},
     "output_type": "execute_result"
    }
   ],
   "source": [
    "E1 = np.array([[2, 0, 0, 0],\n",
    "               [0, 1, 0, 0],\n",
    "               [0, 0, 1, 0],\n",
    "               [0, 0, 0, 1]])\n",
    "B @ E1"
   ]
  },
  {
   "cell_type": "code",
   "execution_count": 3,
   "id": "1a7945ce",
   "metadata": {},
   "outputs": [
    {
     "data": {
      "text/plain": [
       "array([[ 2. ,  2. ,  3. ,  4. ],\n",
       "       [10. ,  6. ,  7. ,  8. ],\n",
       "       [ 9. ,  5. ,  5.5,  6. ],\n",
       "       [26. , 14. , 15. , 16. ]])"
      ]
     },
     "execution_count": 3,
     "metadata": {},
     "output_type": "execute_result"
    }
   ],
   "source": [
    "E2 = np.array([[1, 0, 0, 0],\n",
    "               [0, 1, 0, 0],\n",
    "               [0, 0, 0.5, 0],\n",
    "               [0, 0, 0, 1]])\n",
    "E2 @ B @ E1"
   ]
  },
  {
   "cell_type": "code",
   "execution_count": 4,
   "id": "5999c1d1",
   "metadata": {},
   "outputs": [
    {
     "data": {
      "text/plain": [
       "array([[ 2. ,  2. ,  3. ,  4. ],\n",
       "       [10. ,  6. ,  7. ,  8. ],\n",
       "       [ 9. ,  5. ,  5.5,  6. ],\n",
       "       [28. , 16. , 18. , 20. ]])"
      ]
     },
     "execution_count": 4,
     "metadata": {},
     "output_type": "execute_result"
    }
   ],
   "source": [
    "E3 = np.array([[1, 0, 0, 0],\n",
    "               [0, 1, 0, 0],    \n",
    "               [0, 0, 1, 0],\n",
    "               [1, 0, 0, 1]])\n",
    "E3 @ E2 @ B @ E1"
   ]
  },
  {
   "cell_type": "code",
   "execution_count": 5,
   "id": "660ede54",
   "metadata": {},
   "outputs": [
    {
     "data": {
      "text/plain": [
       "array([[ 2. ,  3. ,  2. ,  4. ],\n",
       "       [10. ,  7. ,  6. ,  8. ],\n",
       "       [ 9. ,  5.5,  5. ,  6. ],\n",
       "       [28. , 18. , 16. , 20. ]])"
      ]
     },
     "execution_count": 5,
     "metadata": {},
     "output_type": "execute_result"
    }
   ],
   "source": [
    "E4 = np.array([[1, 0, 0, 0],\n",
    "              [0, 0, 1, 0],\n",
    "              [0, 1, 0, 0],\n",
    "              [0, 0, 0, 1]])\n",
    "E3 @ E2 @ B @ E1 @ E4"
   ]
  },
  {
   "cell_type": "code",
   "execution_count": 6,
   "id": "13aa317c",
   "metadata": {},
   "outputs": [
    {
     "data": {
      "text/plain": [
       "array([[-8. , -4. , -4. , -4. ],\n",
       "       [10. ,  7. ,  6. ,  8. ],\n",
       "       [-1. , -1.5, -1. , -2. ],\n",
       "       [18. , 11. , 10. , 12. ]])"
      ]
     },
     "execution_count": 6,
     "metadata": {},
     "output_type": "execute_result"
    }
   ],
   "source": [
    "E5 = np.array([[1, -1, 0, 0],\n",
    "              [0, 1, 0, 0],\n",
    "              [0, -1, 1, 0],\n",
    "              [0, -1, 0, 1]])\n",
    "E5 @ E3 @ E2 @ B @ E1 @ E4"
   ]
  },
  {
   "cell_type": "code",
   "execution_count": 7,
   "id": "9a56a368",
   "metadata": {},
   "outputs": [
    {
     "data": {
      "text/plain": [
       "array([[-8. , -4. , -4. , -8. ],\n",
       "       [10. ,  7. ,  6. , 10. ],\n",
       "       [-1. , -1.5, -1. , -1. ],\n",
       "       [18. , 11. , 10. , 18. ]])"
      ]
     },
     "execution_count": 7,
     "metadata": {},
     "output_type": "execute_result"
    }
   ],
   "source": [
    "E6 = np.array([[1, 0, 0, 1],\n",
    "              [0, 1, 0, 0],\n",
    "              [0, 0, 1, 0],\n",
    "              [0, 0, 0, 0]])\n",
    "E5 @ E3 @ E2 @ B @ E1 @ E4 @ E6"
   ]
  },
  {
   "cell_type": "code",
   "execution_count": 8,
   "id": "5cb74c98",
   "metadata": {},
   "outputs": [
    {
     "data": {
      "text/plain": [
       "array([[-8., -4., -8.],\n",
       "       [10.,  6., 10.],\n",
       "       [-1., -1., -1.],\n",
       "       [18., 10., 18.]])"
      ]
     },
     "execution_count": 8,
     "metadata": {},
     "output_type": "execute_result"
    }
   ],
   "source": [
    "E7 = np.array([[1, 0, 0],\n",
    "              [0, 0, 0],\n",
    "              [0, 1, 0],\n",
    "              [0, 0, 1]])\n",
    "E5 @ E3 @ E2 @ B @ E1 @ E4 @ E6 @ E7"
   ]
  },
  {
   "cell_type": "code",
   "execution_count": 9,
   "id": "5fc77bda",
   "metadata": {},
   "outputs": [
    {
     "data": {
      "text/plain": [
       "array([[ 1. , -1. ,  0. ,  0. ],\n",
       "       [ 0. ,  1. ,  0. ,  0. ],\n",
       "       [ 0. , -1. ,  0.5,  0. ],\n",
       "       [ 1. , -1. ,  0. ,  1. ]])"
      ]
     },
     "execution_count": 9,
     "metadata": {},
     "output_type": "execute_result"
    }
   ],
   "source": [
    "A = E5 @ E3 @ E2\n",
    "A"
   ]
  },
  {
   "cell_type": "code",
   "execution_count": 10,
   "id": "5c9731f8",
   "metadata": {},
   "outputs": [
    {
     "data": {
      "text/plain": [
       "array([[2, 0, 2],\n",
       "       [0, 1, 0],\n",
       "       [0, 0, 0],\n",
       "       [0, 0, 0]])"
      ]
     },
     "execution_count": 10,
     "metadata": {},
     "output_type": "execute_result"
    }
   ],
   "source": [
    "C = E1 @ E4 @ E6 @ E7\n",
    "C"
   ]
  },
  {
   "cell_type": "code",
   "execution_count": 11,
   "id": "8a7d5a77",
   "metadata": {},
   "outputs": [
    {
     "data": {
      "text/plain": [
       "array([[-8., -4., -8.],\n",
       "       [10.,  6., 10.],\n",
       "       [-1., -1., -1.],\n",
       "       [18., 10., 18.]])"
      ]
     },
     "execution_count": 11,
     "metadata": {},
     "output_type": "execute_result"
    }
   ],
   "source": [
    "A @ B @ C"
   ]
  },
  {
   "cell_type": "code",
   "execution_count": 2,
   "id": "ce35737f",
   "metadata": {},
   "outputs": [],
   "source": [
    "a = np.array([1, 3, 5])\n",
    "b = np.array([2, 4, 6])\n",
    "A = np.array([[1, 2, 3],\n",
    "              [2, 4, 6]])\n",
    "B = np.array([[7, 8],\n",
    "              [9, 10],\n",
    "              [11, 12]])\n",
    "C = np.array([[1, 0, 0],\n",
    "              [0, 0, 1]])\n",
    "beta_1 = 4\n",
    "beta_2 = 5"
   ]
  },
  {
   "cell_type": "code",
   "execution_count": 70,
   "id": "cfd98112",
   "metadata": {},
   "outputs": [
    {
     "data": {
      "text/plain": [
       "array([ 3,  7, 11])"
      ]
     },
     "execution_count": 70,
     "metadata": {},
     "output_type": "execute_result"
    }
   ],
   "source": [
    "a + b"
   ]
  },
  {
   "cell_type": "code",
   "execution_count": 71,
   "id": "fea3d54d",
   "metadata": {},
   "outputs": [
    {
     "data": {
      "text/plain": [
       "array([ 4, 12, 20])"
      ]
     },
     "execution_count": 71,
     "metadata": {},
     "output_type": "execute_result"
    }
   ],
   "source": [
    "beta_1 * a"
   ]
  },
  {
   "cell_type": "code",
   "execution_count": 72,
   "id": "557ce2e1",
   "metadata": {},
   "outputs": [
    {
     "data": {
      "text/plain": [
       "array([ 2, 12, 30])"
      ]
     },
     "execution_count": 72,
     "metadata": {},
     "output_type": "execute_result"
    }
   ],
   "source": [
    "a * b"
   ]
  },
  {
   "cell_type": "code",
   "execution_count": 73,
   "id": "a37ae2c9",
   "metadata": {},
   "outputs": [
    {
     "data": {
      "text/plain": [
       "array([14, 32, 50])"
      ]
     },
     "execution_count": 73,
     "metadata": {},
     "output_type": "execute_result"
    }
   ],
   "source": [
    "beta_1 * a + beta_2 * b"
   ]
  },
  {
   "cell_type": "code",
   "execution_count": 48,
   "id": "a95f5534",
   "metadata": {},
   "outputs": [
    {
     "data": {
      "text/plain": [
       "array([[ 4,  8, 12],\n",
       "       [ 8, 16, 24]])"
      ]
     },
     "execution_count": 48,
     "metadata": {},
     "output_type": "execute_result"
    }
   ],
   "source": [
    "beta_1 * A"
   ]
  },
  {
   "cell_type": "code",
   "execution_count": 19,
   "id": "973298bb",
   "metadata": {},
   "outputs": [
    {
     "ename": "ValueError",
     "evalue": "operands could not be broadcast together with shapes (2,3) (3,2) ",
     "output_type": "error",
     "traceback": [
      "\u001b[31m---------------------------------------------------------------------------\u001b[39m",
      "\u001b[31mValueError\u001b[39m                                Traceback (most recent call last)",
      "\u001b[36mCell\u001b[39m\u001b[36m \u001b[39m\u001b[32mIn[19]\u001b[39m\u001b[32m, line 1\u001b[39m\n\u001b[32m----> \u001b[39m\u001b[32m1\u001b[39m \u001b[43mA\u001b[49m\u001b[43m \u001b[49m\u001b[43m+\u001b[49m\u001b[43m \u001b[49m\u001b[43mB\u001b[49m\n",
      "\u001b[31mValueError\u001b[39m: operands could not be broadcast together with shapes (2,3) (3,2) "
     ]
    }
   ],
   "source": [
    "A + B"
   ]
  },
  {
   "cell_type": "code",
   "execution_count": 20,
   "id": "5f5aacda",
   "metadata": {},
   "outputs": [
    {
     "data": {
      "text/plain": [
       "array([[2, 2, 3],\n",
       "       [2, 4, 7]])"
      ]
     },
     "execution_count": 20,
     "metadata": {},
     "output_type": "execute_result"
    }
   ],
   "source": [
    "A + C"
   ]
  },
  {
   "cell_type": "code",
   "execution_count": 21,
   "id": "2c86bc37",
   "metadata": {},
   "outputs": [
    {
     "data": {
      "text/plain": [
       "array([[ 58, 116],\n",
       "       [ 64, 128]])"
      ]
     },
     "execution_count": 21,
     "metadata": {},
     "output_type": "execute_result"
    }
   ],
   "source": [
    "(A @ B).T"
   ]
  },
  {
   "cell_type": "code",
   "execution_count": 22,
   "id": "e72047c8",
   "metadata": {},
   "outputs": [
    {
     "data": {
      "text/plain": [
       "array([[ 58, 116],\n",
       "       [ 64, 128]])"
      ]
     },
     "execution_count": 22,
     "metadata": {},
     "output_type": "execute_result"
    }
   ],
   "source": [
    "B.T @ A.T"
   ]
  },
  {
   "cell_type": "code",
   "execution_count": 23,
   "id": "a3297f0d",
   "metadata": {},
   "outputs": [
    {
     "data": {
      "text/plain": [
       "array([[1, 2, 3],\n",
       "       [2, 4, 6]])"
      ]
     },
     "execution_count": 23,
     "metadata": {},
     "output_type": "execute_result"
    }
   ],
   "source": [
    "(A.T).T"
   ]
  },
  {
   "cell_type": "code",
   "execution_count": 24,
   "id": "94f2c6ec",
   "metadata": {},
   "outputs": [
    {
     "data": {
      "text/plain": [
       "array([[2, 2],\n",
       "       [2, 4],\n",
       "       [3, 7]])"
      ]
     },
     "execution_count": 24,
     "metadata": {},
     "output_type": "execute_result"
    }
   ],
   "source": [
    "(A + C).T"
   ]
  },
  {
   "cell_type": "code",
   "execution_count": 3,
   "id": "bb5b900a",
   "metadata": {},
   "outputs": [
    {
     "data": {
      "text/plain": [
       "np.int64(44)"
      ]
     },
     "execution_count": 3,
     "metadata": {},
     "output_type": "execute_result"
    }
   ],
   "source": [
    "np.inner(a, b)"
   ]
  },
  {
   "cell_type": "code",
   "execution_count": 4,
   "id": "6641cefd",
   "metadata": {},
   "outputs": [
    {
     "data": {
      "text/plain": [
       "np.int64(44)"
      ]
     },
     "execution_count": 4,
     "metadata": {},
     "output_type": "execute_result"
    }
   ],
   "source": [
    "np.inner(b, a)"
   ]
  },
  {
   "cell_type": "code",
   "execution_count": 5,
   "id": "4da487a5",
   "metadata": {},
   "outputs": [
    {
     "data": {
      "text/plain": [
       "np.int64(35)"
      ]
     },
     "execution_count": 5,
     "metadata": {},
     "output_type": "execute_result"
    }
   ],
   "source": [
    "np.inner(a, a)"
   ]
  },
  {
   "cell_type": "code",
   "execution_count": 6,
   "id": "7ff527f4",
   "metadata": {},
   "outputs": [
    {
     "data": {
      "text/plain": [
       "np.int64(56)"
      ]
     },
     "execution_count": 6,
     "metadata": {},
     "output_type": "execute_result"
    }
   ],
   "source": [
    "np.inner(b, b)"
   ]
  },
  {
   "cell_type": "code",
   "execution_count": 7,
   "id": "faa566c9",
   "metadata": {},
   "outputs": [
    {
     "data": {
      "text/plain": [
       "np.int64(176)"
      ]
     },
     "execution_count": 7,
     "metadata": {},
     "output_type": "execute_result"
    }
   ],
   "source": [
    "beta_1 * np.inner(a, b)"
   ]
  },
  {
   "cell_type": "code",
   "execution_count": 8,
   "id": "83bed733",
   "metadata": {},
   "outputs": [
    {
     "data": {
      "text/plain": [
       "np.int64(176)"
      ]
     },
     "execution_count": 8,
     "metadata": {},
     "output_type": "execute_result"
    }
   ],
   "source": [
    "np.inner(beta_1 * a, b)"
   ]
  },
  {
   "cell_type": "code",
   "execution_count": 9,
   "id": "f56686de",
   "metadata": {},
   "outputs": [
    {
     "data": {
      "text/plain": [
       "array([[ 2,  6, 10],\n",
       "       [ 4, 12, 20],\n",
       "       [ 6, 18, 30]])"
      ]
     },
     "execution_count": 9,
     "metadata": {},
     "output_type": "execute_result"
    }
   ],
   "source": [
    "np.outer(b, a)"
   ]
  },
  {
   "cell_type": "code",
   "execution_count": 4,
   "id": "915f5a3f",
   "metadata": {},
   "outputs": [
    {
     "data": {
      "text/plain": [
       "np.float64(0.0)"
      ]
     },
     "execution_count": 4,
     "metadata": {},
     "output_type": "execute_result"
    }
   ],
   "source": [
    "np.linalg.det(A @ B)"
   ]
  },
  {
   "cell_type": "code",
   "execution_count": 5,
   "id": "927d147e",
   "metadata": {},
   "outputs": [
    {
     "data": {
      "text/plain": [
       "np.float64(0.0)"
      ]
     },
     "execution_count": 5,
     "metadata": {},
     "output_type": "execute_result"
    }
   ],
   "source": [
    "np.linalg.det(B @ C)"
   ]
  },
  {
   "cell_type": "code",
   "execution_count": 2,
   "id": "7f86a836",
   "metadata": {},
   "outputs": [
    {
     "data": {
      "image/png": "[encoded data removed]",
      "text/plain": [
       "<Figure size 800x800 with 1 Axes>"
      ]
     },
     "metadata": {},
     "output_type": "display_data"
    }
   ],
   "source": [
    "import numpy as np\n",
    "import matplotlib.pyplot as plt\n",
    "from matplotlib.patches import Patch\n",
    "\n",
    "x = np.linspace(-1.5, 1.5, 500)\n",
    "y = np.linspace(-1.5, 1.5, 500)\n",
    "X, Y = np.meshgrid(x, y)\n",
    "\n",
    "plt.figure(figsize=(8, 8))\n",
    "\n",
    "norm_inf = np.maximum(np.abs(X), np.abs(Y))\n",
    "norm_2 = np.sqrt(X**2 + Y**2)\n",
    "\n",
    "plt.contour(X, Y, norm_inf, levels=[1], colors=\"red\", linewidths=2)\n",
    "\n",
    "plt.contourf(X, Y, norm_2, levels=[0, 1, 3], colors=[\"lightblue\", \"lightgreen\"], alpha=0.6)\n",
    "plt.contour(X, Y, norm_2, levels=[1], colors=\"blue\", linewidths=2)\n",
    "\n",
    "plt.xlim(-1.5, 1.5)\n",
    "plt.ylim(-1.5, 1.5)\n",
    "plt.gca().set_aspect(\"equal\")\n",
    "plt.xlabel(r\"$x_1$\")\n",
    "plt.ylabel(r\"$x_2$\")\n",
    "plt.legend(handles=[\n",
    "    plt.Line2D([0], [0], color=\"red\", lw=2, label=r\"$||\\mathbf{x}||_\\infty = 1$\"),\n",
    "    plt.Line2D([0], [0], color=\"blue\", lw=2, label=r\"$||\\mathbf{x}||_2 = 1$\"),\n",
    "    Patch(color=\"lightblue\", label=r\"$||\\mathbf{x}||_2 < 1$\"),\n",
    "    Patch(color=\"lightgreen\", label=r\"$||\\mathbf{x}||_2 > 1$\")\n",
    "], loc=\"upper right\")\n",
    "plt.tight_layout()\n",
    "plt.grid(True, alpha=0.3)\n",
    "plt.show()"
   ]
  }
 ],
 "metadata": {
  "kernelspec": {
   "display_name": "Python 3",
   "language": "python",
   "name": "python3"
  },
  "language_info": {
   "codemirror_mode": {
    "name": "ipython",
    "version": 3
   },
   "file_extension": ".py",
   "mimetype": "text/x-python",
   "name": "python",
   "nbconvert_exporter": "python",
   "pygments_lexer": "ipython3",
   "version": "3.13.7"
  }
 },
 "nbformat": 4,
 "nbformat_minor": 5
}
